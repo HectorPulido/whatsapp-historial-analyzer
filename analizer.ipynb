{
 "cells": [
  {
   "cell_type": "code",
   "execution_count": null,
   "metadata": {},
   "outputs": [],
   "source": [
    "!pip3 install unidecode"
   ]
  },
  {
   "cell_type": "code",
   "execution_count": null,
   "metadata": {},
   "outputs": [],
   "source": [
    "!pip3 install sentiment-analysis-spanish"
   ]
  },
  {
   "cell_type": "code",
   "execution_count": null,
   "metadata": {},
   "outputs": [],
   "source": [
    "!pip3 install nltk"
   ]
  },
  {
   "cell_type": "code",
   "execution_count": null,
   "metadata": {},
   "outputs": [],
   "source": [
    "import re\n",
    "import datetime\n",
    "import pandas as pd\n",
    "from sentiment_analysis_spanish import sentiment_analysis\n",
    "import matplotlib.pyplot as plt\n",
    "import matplotlib.dates as mdates\n",
    "\n",
    "from collections import Counter\n",
    "import nltk\n",
    "from nltk.corpus import stopwords"
   ]
  },
  {
   "cell_type": "code",
   "execution_count": null,
   "metadata": {},
   "outputs": [],
   "source": [
    "message_regex = r\"(\\d+/\\d+/\\d+ \\d+:\\d+ \\w.\\sm.) - ([^\\:]+): (.*)\""
   ]
  },
  {
   "cell_type": "code",
   "execution_count": null,
   "metadata": {},
   "outputs": [],
   "source": [
    "def build_date(date_str):\n",
    "    date_regex = r'(\\d+)/(\\d+)/(\\d+) (\\d+):(\\d+) (\\w).\\sm.'\n",
    "    date_match = re.match(date_regex, date_str)\n",
    "    return datetime.datetime(int(date_match[3]), int(date_match[2]), int(date_match[1]))"
   ]
  },
  {
   "cell_type": "code",
   "execution_count": null,
   "metadata": {},
   "outputs": [],
   "source": [
    "def post_process(str):\n",
    "    match = re.match(message_regex, str)\n",
    "    date = match[1]\n",
    "    user = match[2]\n",
    "    message = match[3]\n",
    "\n",
    "    return (build_date(date), user, message)"
   ]
  },
  {
   "cell_type": "code",
   "execution_count": null,
   "metadata": {},
   "outputs": [],
   "source": [
    "\n",
    "conversations = []\n",
    "\n",
    "with open('conversation.txt') as fp:\n",
    "    for entry in fp:\n",
    "        # normalize\n",
    "        entry = entry.replace(\"\\xa0\", \" \").strip()\n",
    "\n",
    "        match = re.match(message_regex, entry)\n",
    "        if not match and len(conversations) > 0:\n",
    "            conversations[-1] += f\"\\n {entry}\"\n",
    "            continue\n",
    "\n",
    "        conversations.append(entry)\n",
    "\n",
    "del conversations[0]"
   ]
  },
  {
   "cell_type": "code",
   "execution_count": null,
   "metadata": {},
   "outputs": [],
   "source": [
    "post_process_message = [post_process(message) for message in conversations]"
   ]
  },
  {
   "cell_type": "markdown",
   "metadata": {},
   "source": [
    "## Dataframe"
   ]
  },
  {
   "cell_type": "code",
   "execution_count": null,
   "metadata": {},
   "outputs": [],
   "source": [
    "df = pd.DataFrame(post_process_message)\n",
    "df.columns = [\"date\", \"user\", \"message\"]"
   ]
  },
  {
   "cell_type": "code",
   "execution_count": null,
   "metadata": {},
   "outputs": [],
   "source": [
    "df"
   ]
  },
  {
   "cell_type": "code",
   "execution_count": null,
   "metadata": {},
   "outputs": [],
   "source": [
    "users = df.user\n",
    "users = set(list(users))"
   ]
  },
  {
   "cell_type": "code",
   "execution_count": null,
   "metadata": {},
   "outputs": [],
   "source": [
    "fig = plt.figure()\n",
    "ax = fig.add_subplot(1,1,1)  \n",
    "\n",
    "for user in users:\n",
    "    plt.plot(df[df.user==user].groupby('date').message.count())\n",
    "\n",
    "plt.plot(df.groupby('date').message.count())\n",
    "plt.legend(list(users) + ['total'])\n",
    "\n",
    "plt.title(\"Messages vs Date\")\n",
    "plt.xlabel(\"Date\")\n",
    "plt.ylabel(\"Messages\")\n",
    "\n",
    "ax.xaxis.set_major_locator(mdates.DayLocator(interval=30))\n",
    "\n",
    "plt.show()"
   ]
  },
  {
   "cell_type": "code",
   "execution_count": null,
   "metadata": {},
   "outputs": [],
   "source": [
    "## Messages by day\n",
    "df.groupby('date').message.count().sort_values(ascending=False)"
   ]
  },
  {
   "cell_type": "markdown",
   "metadata": {},
   "source": [
    "## Sentimental analysis"
   ]
  },
  {
   "cell_type": "code",
   "execution_count": null,
   "metadata": {},
   "outputs": [],
   "source": [
    "sentiment = sentiment_analysis.SentimentAnalysisSpanish()"
   ]
  },
  {
   "cell_type": "code",
   "execution_count": null,
   "metadata": {},
   "outputs": [],
   "source": [
    "df_without_images = df[~df.message.str.contains(f'<.+>')]\n",
    "df_without_images['sentiments'] = [sentiment.sentiment(message) for message in list(df_without_images.message)]\n",
    "df_without_images"
   ]
  },
  {
   "cell_type": "code",
   "execution_count": null,
   "metadata": {},
   "outputs": [],
   "source": [
    "## Messages by day\n",
    "emotional_days = df_without_images.groupby('date')['sentiments'].agg('sum').sort_values(ascending=False)\n",
    "print(\"Most emotional days\")\n",
    "print(emotional_days)"
   ]
  },
  {
   "cell_type": "code",
   "execution_count": null,
   "metadata": {},
   "outputs": [],
   "source": [
    "# Sad messages\n",
    "sad = df_without_images.sort_values('sentiments', ascending=True)\n",
    "for user in users:\n",
    "    sad_msg_by_users = sad[sad.user == user][['message', 'sentiments']]\n",
    "\n",
    "    print(f\"Sad messages by {user}\")\n",
    "    print(sad_msg_by_users.head())\n",
    "\n"
   ]
  },
  {
   "cell_type": "code",
   "execution_count": null,
   "metadata": {},
   "outputs": [],
   "source": [
    "# Happy messages\n",
    "happy = df_without_images.sort_values('sentiments', ascending=False)\n",
    "for user in users:\n",
    "    happy_msg_by_users = happy[happy.user == user][['message', 'sentiments']]\n",
    "\n",
    "    print(f\"Happy messages by {user}\")\n",
    "    print(happy_msg_by_users.head())\n"
   ]
  },
  {
   "cell_type": "code",
   "execution_count": null,
   "metadata": {},
   "outputs": [],
   "source": [
    "fig = plt.figure()\n",
    "ax = fig.add_subplot(1,1,1)  \n",
    "\n",
    "for user in users:\n",
    "    plt.plot(df_without_images[df.user==user].groupby('date')['sentiments'].agg(\"mean\"))\n",
    "\n",
    "plt.plot(df_without_images.groupby('date')['sentiments'].agg(\"mean\"))\n",
    "plt.legend(list(users) + ['total'])\n",
    "\n",
    "plt.title(\"Sentiment vs Date\")\n",
    "plt.xlabel(\"Date\")\n",
    "plt.ylabel(\"Sentiment\")\n",
    "\n",
    "ax.xaxis.set_major_locator(mdates.DayLocator(interval=30))\n",
    "\n",
    "plt.show()"
   ]
  },
  {
   "cell_type": "markdown",
   "metadata": {},
   "source": [
    "## Most used words"
   ]
  },
  {
   "cell_type": "code",
   "execution_count": null,
   "metadata": {},
   "outputs": [],
   "source": [
    "nltk.download('stopwords')"
   ]
  },
  {
   "cell_type": "code",
   "execution_count": null,
   "metadata": {},
   "outputs": [],
   "source": [
    "spanish_stopwords = set(stopwords.words('spanish')+ ['mas', 'jaja', 'jajaja', 'jajajaja']) \n",
    "\n",
    "for user in users:\n",
    "    query = df_without_images[df.user==user].message\n",
    "    long_str = \" \".join(list(query))\n",
    "    long_str = long_str.replace(\"\\n\", \" \").lower() \n",
    "    words = long_str.split()\n",
    "    important_words = filter(lambda x: x not in spanish_stopwords, words) \n",
    "    counter = Counter(important_words).most_common(20)\n",
    "\n",
    "    print(user)\n",
    "    for id, c in enumerate(counter):\n",
    "        print(f\"{id + 1} {c[0]}\")"
   ]
  },
  {
   "cell_type": "markdown",
   "metadata": {},
   "source": [
    "## who initiates more the conversation"
   ]
  },
  {
   "cell_type": "code",
   "execution_count": null,
   "metadata": {},
   "outputs": [],
   "source": [
    "first_message_of_each_day = df.groupby('date').first().user\n",
    "\n",
    "for user in users:\n",
    "    count = first_message_of_each_day[first_message_of_each_day==user]\n",
    "    print(f\"Conversations started by {user}: {len(count)}\")"
   ]
  },
  {
   "cell_type": "markdown",
   "metadata": {},
   "source": [
    "## Who says more i love you"
   ]
  },
  {
   "cell_type": "code",
   "execution_count": null,
   "metadata": {},
   "outputs": [],
   "source": [
    "love_messages = df[df.message.str.contains(f'te quiero|te amo|te adoro')].user\n",
    "for user in users:\n",
    "    count = love_messages[love_messages==user]\n",
    "    print(f\"Love messages by {user}: {len(count)}\")\n"
   ]
  },
  {
   "cell_type": "markdown",
   "metadata": {},
   "source": [
    "## How many images send"
   ]
  },
  {
   "cell_type": "code",
   "execution_count": null,
   "metadata": {},
   "outputs": [],
   "source": [
    "df[df.message.str.contains(f'<.+>')]"
   ]
  },
  {
   "cell_type": "code",
   "execution_count": null,
   "metadata": {},
   "outputs": [],
   "source": [
    "# How many images senty\n",
    "images_sent = df[df.message.str.contains(f'<.+>')].user\n",
    "\n",
    "for user in users:\n",
    "    count = images_sent[images_sent==user]\n",
    "    print(f\"Images sended by {user}: {len(count)}\")"
   ]
  },
  {
   "cell_type": "code",
   "execution_count": null,
   "metadata": {},
   "outputs": [],
   "source": [
    "images = df[df.message.str.contains(f'<.+>')]\n",
    "\n",
    "fig = plt.figure()\n",
    "ax = fig.add_subplot(1,1,1)  \n",
    "\n",
    "for user in users:\n",
    "    plt.plot(images[df.user==user].groupby('date').agg(\"count\"))\n",
    "\n",
    "plt.plot(images.groupby('date').agg(\"count\"))\n",
    "plt.legend(list(users) + ['total'])\n",
    "\n",
    "plt.title(\"Images vs Date\")\n",
    "plt.xlabel(\"Date\")\n",
    "plt.ylabel(\"Images\")\n",
    "\n",
    "ax.xaxis.set_major_locator(mdates.DayLocator(interval=30))\n",
    "\n",
    "plt.show()"
   ]
  },
  {
   "cell_type": "code",
   "execution_count": null,
   "metadata": {},
   "outputs": [],
   "source": []
  },
  {
   "cell_type": "code",
   "execution_count": null,
   "metadata": {},
   "outputs": [],
   "source": []
  }
 ],
 "metadata": {
  "interpreter": {
   "hash": "31f2aee4e71d21fbe5cf8b01ff0e069b9275f58929596ceb00d14d90e3e16cd6"
  },
  "kernelspec": {
   "display_name": "Python 3.8.9 64-bit",
   "language": "python",
   "name": "python3"
  },
  "language_info": {
   "codemirror_mode": {
    "name": "ipython",
    "version": 3
   },
   "file_extension": ".py",
   "mimetype": "text/x-python",
   "name": "python",
   "nbconvert_exporter": "python",
   "pygments_lexer": "ipython3",
   "version": "3.9.12"
  },
  "orig_nbformat": 4
 },
 "nbformat": 4,
 "nbformat_minor": 2
}
